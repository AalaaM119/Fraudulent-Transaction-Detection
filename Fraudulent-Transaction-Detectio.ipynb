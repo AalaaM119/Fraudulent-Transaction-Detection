{
 "cells": [
  {
   "cell_type": "code",
   "execution_count": 86,
   "id": "1329d49d-6f85-480d-8fab-de8f62552b60",
   "metadata": {},
   "outputs": [],
   "source": [
    "import matplotlib.pyplot as plt\n",
    "import pandas as pd\n",
    "import numpy as np\n",
    "import seaborn as sns"
   ]
  },
  {
   "cell_type": "code",
   "execution_count": 87,
   "id": "88dfb537-5956-454b-9410-b1fd15c60140",
   "metadata": {},
   "outputs": [
    {
     "data": {
      "text/html": [
       "<div>\n",
       "<style scoped>\n",
       "    .dataframe tbody tr th:only-of-type {\n",
       "        vertical-align: middle;\n",
       "    }\n",
       "\n",
       "    .dataframe tbody tr th {\n",
       "        vertical-align: top;\n",
       "    }\n",
       "\n",
       "    .dataframe thead th {\n",
       "        text-align: right;\n",
       "    }\n",
       "</style>\n",
       "<table border=\"1\" class=\"dataframe\">\n",
       "  <thead>\n",
       "    <tr style=\"text-align: right;\">\n",
       "      <th></th>\n",
       "      <th>Unnamed: 0</th>\n",
       "      <th>TRANSACTION_ID</th>\n",
       "      <th>TX_DATETIME</th>\n",
       "      <th>CUSTOMER_ID</th>\n",
       "      <th>TERMINAL_ID</th>\n",
       "      <th>TX_AMOUNT</th>\n",
       "      <th>TX_TIME_SECONDS</th>\n",
       "      <th>TX_TIME_DAYS</th>\n",
       "      <th>TX_FRAUD</th>\n",
       "      <th>TX_FRAUD_SCENARIO</th>\n",
       "    </tr>\n",
       "  </thead>\n",
       "  <tbody>\n",
       "    <tr>\n",
       "      <th>0</th>\n",
       "      <td>0</td>\n",
       "      <td>0</td>\n",
       "      <td>2023-01-01 00:00:31</td>\n",
       "      <td>596</td>\n",
       "      <td>3156</td>\n",
       "      <td>533.07</td>\n",
       "      <td>31</td>\n",
       "      <td>0</td>\n",
       "      <td>0</td>\n",
       "      <td>0</td>\n",
       "    </tr>\n",
       "    <tr>\n",
       "      <th>1</th>\n",
       "      <td>1</td>\n",
       "      <td>1</td>\n",
       "      <td>2023-01-01 00:02:10</td>\n",
       "      <td>4961</td>\n",
       "      <td>3412</td>\n",
       "      <td>808.56</td>\n",
       "      <td>130</td>\n",
       "      <td>0</td>\n",
       "      <td>0</td>\n",
       "      <td>0</td>\n",
       "    </tr>\n",
       "    <tr>\n",
       "      <th>2</th>\n",
       "      <td>2</td>\n",
       "      <td>2</td>\n",
       "      <td>2023-01-01 00:07:56</td>\n",
       "      <td>2</td>\n",
       "      <td>1365</td>\n",
       "      <td>1442.94</td>\n",
       "      <td>476</td>\n",
       "      <td>0</td>\n",
       "      <td>1</td>\n",
       "      <td>1</td>\n",
       "    </tr>\n",
       "    <tr>\n",
       "      <th>3</th>\n",
       "      <td>3</td>\n",
       "      <td>3</td>\n",
       "      <td>2023-01-01 00:09:29</td>\n",
       "      <td>4128</td>\n",
       "      <td>8737</td>\n",
       "      <td>620.65</td>\n",
       "      <td>569</td>\n",
       "      <td>0</td>\n",
       "      <td>0</td>\n",
       "      <td>0</td>\n",
       "    </tr>\n",
       "    <tr>\n",
       "      <th>4</th>\n",
       "      <td>4</td>\n",
       "      <td>4</td>\n",
       "      <td>2023-01-01 00:10:34</td>\n",
       "      <td>927</td>\n",
       "      <td>9906</td>\n",
       "      <td>490.66</td>\n",
       "      <td>634</td>\n",
       "      <td>0</td>\n",
       "      <td>0</td>\n",
       "      <td>0</td>\n",
       "    </tr>\n",
       "  </tbody>\n",
       "</table>\n",
       "</div>"
      ],
      "text/plain": [
       "   Unnamed: 0  TRANSACTION_ID          TX_DATETIME  CUSTOMER_ID  TERMINAL_ID  \\\n",
       "0           0               0  2023-01-01 00:00:31          596         3156   \n",
       "1           1               1  2023-01-01 00:02:10         4961         3412   \n",
       "2           2               2  2023-01-01 00:07:56            2         1365   \n",
       "3           3               3  2023-01-01 00:09:29         4128         8737   \n",
       "4           4               4  2023-01-01 00:10:34          927         9906   \n",
       "\n",
       "   TX_AMOUNT  TX_TIME_SECONDS  TX_TIME_DAYS  TX_FRAUD  TX_FRAUD_SCENARIO  \n",
       "0     533.07               31             0         0                  0  \n",
       "1     808.56              130             0         0                  0  \n",
       "2    1442.94              476             0         1                  1  \n",
       "3     620.65              569             0         0                  0  \n",
       "4     490.66              634             0         0                  0  "
      ]
     },
     "execution_count": 87,
     "metadata": {},
     "output_type": "execute_result"
    }
   ],
   "source": [
    "data=pd.read_csv('Final Transactions.csv')\n",
    "data.head()"
   ]
  },
  {
   "cell_type": "code",
   "execution_count": 88,
   "id": "9c061e3c-cf69-4053-9e8f-659fe510eb3c",
   "metadata": {},
   "outputs": [
    {
     "data": {
      "text/plain": [
       "0"
      ]
     },
     "execution_count": 88,
     "metadata": {},
     "output_type": "execute_result"
    }
   ],
   "source": [
    "data.duplicated().sum()"
   ]
  },
  {
   "cell_type": "code",
   "execution_count": 89,
   "id": "202dd15a-ab89-4411-869d-2f4a0d41552d",
   "metadata": {},
   "outputs": [
    {
     "data": {
      "text/plain": [
       "1754155"
      ]
     },
     "execution_count": 89,
     "metadata": {},
     "output_type": "execute_result"
    }
   ],
   "source": [
    "len(data)"
   ]
  },
  {
   "cell_type": "code",
   "execution_count": 90,
   "id": "6a6025ba-48db-48cf-a384-28055c6c12cf",
   "metadata": {},
   "outputs": [
    {
     "data": {
      "text/plain": [
       "1754155"
      ]
     },
     "execution_count": 90,
     "metadata": {},
     "output_type": "execute_result"
    }
   ],
   "source": [
    "len(data['Unnamed: 0'].unique())"
   ]
  },
  {
   "cell_type": "code",
   "execution_count": 91,
   "id": "89c64597-4527-401b-af63-21ed248195aa",
   "metadata": {},
   "outputs": [
    {
     "data": {
      "text/plain": [
       "1754155"
      ]
     },
     "execution_count": 91,
     "metadata": {},
     "output_type": "execute_result"
    }
   ],
   "source": [
    "len(data['TRANSACTION_ID'].unique())"
   ]
  },
  {
   "cell_type": "code",
   "execution_count": 92,
   "id": "55dc7ffb-2ddf-4091-adc1-418e18d517cf",
   "metadata": {},
   "outputs": [],
   "source": [
    "data.drop(['Unnamed: 0','TRANSACTION_ID'],axis=1,inplace=True )"
   ]
  },
  {
   "cell_type": "code",
   "execution_count": 93,
   "id": "60b18139-bd14-43bd-991f-31443c3afb17",
   "metadata": {},
   "outputs": [
    {
     "data": {
      "text/plain": [
       "0"
      ]
     },
     "execution_count": 93,
     "metadata": {},
     "output_type": "execute_result"
    }
   ],
   "source": [
    "data.duplicated().sum()"
   ]
  },
  {
   "cell_type": "code",
   "execution_count": 94,
   "id": "62886016-dd19-4de9-99d6-31ae6ace2f4c",
   "metadata": {},
   "outputs": [
    {
     "data": {
      "text/html": [
       "<div>\n",
       "<style scoped>\n",
       "    .dataframe tbody tr th:only-of-type {\n",
       "        vertical-align: middle;\n",
       "    }\n",
       "\n",
       "    .dataframe tbody tr th {\n",
       "        vertical-align: top;\n",
       "    }\n",
       "\n",
       "    .dataframe thead th {\n",
       "        text-align: right;\n",
       "    }\n",
       "</style>\n",
       "<table border=\"1\" class=\"dataframe\">\n",
       "  <thead>\n",
       "    <tr style=\"text-align: right;\">\n",
       "      <th></th>\n",
       "      <th>TX_DATETIME</th>\n",
       "      <th>CUSTOMER_ID</th>\n",
       "      <th>TERMINAL_ID</th>\n",
       "      <th>TX_AMOUNT</th>\n",
       "      <th>TX_TIME_SECONDS</th>\n",
       "      <th>TX_TIME_DAYS</th>\n",
       "      <th>TX_FRAUD</th>\n",
       "      <th>TX_FRAUD_SCENARIO</th>\n",
       "    </tr>\n",
       "  </thead>\n",
       "  <tbody>\n",
       "    <tr>\n",
       "      <th>0</th>\n",
       "      <td>2023-01-01 00:00:31</td>\n",
       "      <td>596</td>\n",
       "      <td>3156</td>\n",
       "      <td>533.07</td>\n",
       "      <td>31</td>\n",
       "      <td>0</td>\n",
       "      <td>0</td>\n",
       "      <td>0</td>\n",
       "    </tr>\n",
       "    <tr>\n",
       "      <th>1</th>\n",
       "      <td>2023-01-01 00:02:10</td>\n",
       "      <td>4961</td>\n",
       "      <td>3412</td>\n",
       "      <td>808.56</td>\n",
       "      <td>130</td>\n",
       "      <td>0</td>\n",
       "      <td>0</td>\n",
       "      <td>0</td>\n",
       "    </tr>\n",
       "    <tr>\n",
       "      <th>2</th>\n",
       "      <td>2023-01-01 00:07:56</td>\n",
       "      <td>2</td>\n",
       "      <td>1365</td>\n",
       "      <td>1442.94</td>\n",
       "      <td>476</td>\n",
       "      <td>0</td>\n",
       "      <td>1</td>\n",
       "      <td>1</td>\n",
       "    </tr>\n",
       "    <tr>\n",
       "      <th>3</th>\n",
       "      <td>2023-01-01 00:09:29</td>\n",
       "      <td>4128</td>\n",
       "      <td>8737</td>\n",
       "      <td>620.65</td>\n",
       "      <td>569</td>\n",
       "      <td>0</td>\n",
       "      <td>0</td>\n",
       "      <td>0</td>\n",
       "    </tr>\n",
       "    <tr>\n",
       "      <th>4</th>\n",
       "      <td>2023-01-01 00:10:34</td>\n",
       "      <td>927</td>\n",
       "      <td>9906</td>\n",
       "      <td>490.66</td>\n",
       "      <td>634</td>\n",
       "      <td>0</td>\n",
       "      <td>0</td>\n",
       "      <td>0</td>\n",
       "    </tr>\n",
       "  </tbody>\n",
       "</table>\n",
       "</div>"
      ],
      "text/plain": [
       "           TX_DATETIME  CUSTOMER_ID  TERMINAL_ID  TX_AMOUNT  TX_TIME_SECONDS  \\\n",
       "0  2023-01-01 00:00:31          596         3156     533.07               31   \n",
       "1  2023-01-01 00:02:10         4961         3412     808.56              130   \n",
       "2  2023-01-01 00:07:56            2         1365    1442.94              476   \n",
       "3  2023-01-01 00:09:29         4128         8737     620.65              569   \n",
       "4  2023-01-01 00:10:34          927         9906     490.66              634   \n",
       "\n",
       "   TX_TIME_DAYS  TX_FRAUD  TX_FRAUD_SCENARIO  \n",
       "0             0         0                  0  \n",
       "1             0         0                  0  \n",
       "2             0         1                  1  \n",
       "3             0         0                  0  \n",
       "4             0         0                  0  "
      ]
     },
     "execution_count": 94,
     "metadata": {},
     "output_type": "execute_result"
    }
   ],
   "source": [
    "data.head()"
   ]
  },
  {
   "cell_type": "code",
   "execution_count": null,
   "id": "8ec65f0c-dd10-4219-befa-1419ec0369cb",
   "metadata": {
    "tags": []
   },
   "outputs": [],
   "source": [
    "data['TX_DATETIME'].value_counts()"
   ]
  },
  {
   "cell_type": "raw",
   "id": "21c8237a-f5e5-4e8f-9982-bf3c181e9db0",
   "metadata": {},
   "source": [
    "for i in range(len(data)):\n",
    "    date=data.loc[i,'TX_DATETIME']\n",
    "    s=date.split('-')\n",
    "    data.loc[i,'TX_DATE_Year']=s[0]\n",
    "    data.loc[i,'TX_DATE_Month']=s[1]\n",
    "    time=s[2].split(' ')\n",
    "    data.loc[i,'TX_DATE_Day']=time[0]\n",
    "    data.loc[i,'TX_TIME']=time[1]"
   ]
  },
  {
   "cell_type": "code",
   "execution_count": 95,
   "id": "5e611c1e-89f1-4671-9447-d733cd8cb231",
   "metadata": {},
   "outputs": [],
   "source": [
    "for i in range(len(data)):\n",
    "    s=data.loc[i,'TX_DATETIME']\n",
    "    data.loc[i,'TX_DATETIME']=str(s.split('-'))\n",
    "   "
   ]
  },
  {
   "cell_type": "code",
   "execution_count": 96,
   "id": "3a4dd02e-f3b6-4d15-84d0-922d5209bb83",
   "metadata": {},
   "outputs": [
    {
     "data": {
      "text/html": [
       "<div>\n",
       "<style scoped>\n",
       "    .dataframe tbody tr th:only-of-type {\n",
       "        vertical-align: middle;\n",
       "    }\n",
       "\n",
       "    .dataframe tbody tr th {\n",
       "        vertical-align: top;\n",
       "    }\n",
       "\n",
       "    .dataframe thead th {\n",
       "        text-align: right;\n",
       "    }\n",
       "</style>\n",
       "<table border=\"1\" class=\"dataframe\">\n",
       "  <thead>\n",
       "    <tr style=\"text-align: right;\">\n",
       "      <th></th>\n",
       "      <th>TX_DATETIME</th>\n",
       "      <th>CUSTOMER_ID</th>\n",
       "      <th>TERMINAL_ID</th>\n",
       "      <th>TX_AMOUNT</th>\n",
       "      <th>TX_TIME_SECONDS</th>\n",
       "      <th>TX_TIME_DAYS</th>\n",
       "      <th>TX_FRAUD</th>\n",
       "      <th>TX_FRAUD_SCENARIO</th>\n",
       "    </tr>\n",
       "  </thead>\n",
       "  <tbody>\n",
       "    <tr>\n",
       "      <th>0</th>\n",
       "      <td>['2023', '01', '01 00:00:31']</td>\n",
       "      <td>596</td>\n",
       "      <td>3156</td>\n",
       "      <td>533.07</td>\n",
       "      <td>31</td>\n",
       "      <td>0</td>\n",
       "      <td>0</td>\n",
       "      <td>0</td>\n",
       "    </tr>\n",
       "    <tr>\n",
       "      <th>1</th>\n",
       "      <td>['2023', '01', '01 00:02:10']</td>\n",
       "      <td>4961</td>\n",
       "      <td>3412</td>\n",
       "      <td>808.56</td>\n",
       "      <td>130</td>\n",
       "      <td>0</td>\n",
       "      <td>0</td>\n",
       "      <td>0</td>\n",
       "    </tr>\n",
       "    <tr>\n",
       "      <th>2</th>\n",
       "      <td>['2023', '01', '01 00:07:56']</td>\n",
       "      <td>2</td>\n",
       "      <td>1365</td>\n",
       "      <td>1442.94</td>\n",
       "      <td>476</td>\n",
       "      <td>0</td>\n",
       "      <td>1</td>\n",
       "      <td>1</td>\n",
       "    </tr>\n",
       "    <tr>\n",
       "      <th>3</th>\n",
       "      <td>['2023', '01', '01 00:09:29']</td>\n",
       "      <td>4128</td>\n",
       "      <td>8737</td>\n",
       "      <td>620.65</td>\n",
       "      <td>569</td>\n",
       "      <td>0</td>\n",
       "      <td>0</td>\n",
       "      <td>0</td>\n",
       "    </tr>\n",
       "    <tr>\n",
       "      <th>4</th>\n",
       "      <td>['2023', '01', '01 00:10:34']</td>\n",
       "      <td>927</td>\n",
       "      <td>9906</td>\n",
       "      <td>490.66</td>\n",
       "      <td>634</td>\n",
       "      <td>0</td>\n",
       "      <td>0</td>\n",
       "      <td>0</td>\n",
       "    </tr>\n",
       "  </tbody>\n",
       "</table>\n",
       "</div>"
      ],
      "text/plain": [
       "                     TX_DATETIME  CUSTOMER_ID  TERMINAL_ID  TX_AMOUNT  \\\n",
       "0  ['2023', '01', '01 00:00:31']          596         3156     533.07   \n",
       "1  ['2023', '01', '01 00:02:10']         4961         3412     808.56   \n",
       "2  ['2023', '01', '01 00:07:56']            2         1365    1442.94   \n",
       "3  ['2023', '01', '01 00:09:29']         4128         8737     620.65   \n",
       "4  ['2023', '01', '01 00:10:34']          927         9906     490.66   \n",
       "\n",
       "   TX_TIME_SECONDS  TX_TIME_DAYS  TX_FRAUD  TX_FRAUD_SCENARIO  \n",
       "0               31             0         0                  0  \n",
       "1              130             0         0                  0  \n",
       "2              476             0         1                  1  \n",
       "3              569             0         0                  0  \n",
       "4              634             0         0                  0  "
      ]
     },
     "execution_count": 96,
     "metadata": {},
     "output_type": "execute_result"
    }
   ],
   "source": [
    "data.head()"
   ]
  },
  {
   "cell_type": "code",
   "execution_count": 106,
   "id": "fda82b40-c8be-4efa-b225-c0e9589430c3",
   "metadata": {},
   "outputs": [],
   "source": [
    "for i in range(len(data)):\n",
    "    s=data.loc[i,'TX_DATETIME']\n",
    "    data.loc[i,'TX_DATE_Year']=s[2:6]\n",
    "    data.loc[i,'TX_DATE_Month']=s[10:12]"
   ]
  },
  {
   "cell_type": "code",
   "execution_count": 107,
   "id": "9c0b7044-1f6e-4fb4-866e-1b598098f9ea",
   "metadata": {},
   "outputs": [
    {
     "data": {
      "text/html": [
       "<div>\n",
       "<style scoped>\n",
       "    .dataframe tbody tr th:only-of-type {\n",
       "        vertical-align: middle;\n",
       "    }\n",
       "\n",
       "    .dataframe tbody tr th {\n",
       "        vertical-align: top;\n",
       "    }\n",
       "\n",
       "    .dataframe thead th {\n",
       "        text-align: right;\n",
       "    }\n",
       "</style>\n",
       "<table border=\"1\" class=\"dataframe\">\n",
       "  <thead>\n",
       "    <tr style=\"text-align: right;\">\n",
       "      <th></th>\n",
       "      <th>TX_DATETIME</th>\n",
       "      <th>CUSTOMER_ID</th>\n",
       "      <th>TERMINAL_ID</th>\n",
       "      <th>TX_AMOUNT</th>\n",
       "      <th>TX_TIME_SECONDS</th>\n",
       "      <th>TX_TIME_DAYS</th>\n",
       "      <th>TX_FRAUD</th>\n",
       "      <th>TX_FRAUD_SCENARIO</th>\n",
       "      <th>TX_DATE_Year</th>\n",
       "      <th>TX_DATE_Month</th>\n",
       "    </tr>\n",
       "  </thead>\n",
       "  <tbody>\n",
       "    <tr>\n",
       "      <th>0</th>\n",
       "      <td>['2023', '01', '01 00:00:31']</td>\n",
       "      <td>596</td>\n",
       "      <td>3156</td>\n",
       "      <td>533.07</td>\n",
       "      <td>31</td>\n",
       "      <td>0</td>\n",
       "      <td>0</td>\n",
       "      <td>0</td>\n",
       "      <td>2023</td>\n",
       "      <td>01</td>\n",
       "    </tr>\n",
       "    <tr>\n",
       "      <th>1</th>\n",
       "      <td>['2023', '01', '01 00:02:10']</td>\n",
       "      <td>4961</td>\n",
       "      <td>3412</td>\n",
       "      <td>808.56</td>\n",
       "      <td>130</td>\n",
       "      <td>0</td>\n",
       "      <td>0</td>\n",
       "      <td>0</td>\n",
       "      <td>2023</td>\n",
       "      <td>01</td>\n",
       "    </tr>\n",
       "    <tr>\n",
       "      <th>2</th>\n",
       "      <td>['2023', '01', '01 00:07:56']</td>\n",
       "      <td>2</td>\n",
       "      <td>1365</td>\n",
       "      <td>1442.94</td>\n",
       "      <td>476</td>\n",
       "      <td>0</td>\n",
       "      <td>1</td>\n",
       "      <td>1</td>\n",
       "      <td>2023</td>\n",
       "      <td>01</td>\n",
       "    </tr>\n",
       "    <tr>\n",
       "      <th>3</th>\n",
       "      <td>['2023', '01', '01 00:09:29']</td>\n",
       "      <td>4128</td>\n",
       "      <td>8737</td>\n",
       "      <td>620.65</td>\n",
       "      <td>569</td>\n",
       "      <td>0</td>\n",
       "      <td>0</td>\n",
       "      <td>0</td>\n",
       "      <td>2023</td>\n",
       "      <td>01</td>\n",
       "    </tr>\n",
       "    <tr>\n",
       "      <th>4</th>\n",
       "      <td>['2023', '01', '01 00:10:34']</td>\n",
       "      <td>927</td>\n",
       "      <td>9906</td>\n",
       "      <td>490.66</td>\n",
       "      <td>634</td>\n",
       "      <td>0</td>\n",
       "      <td>0</td>\n",
       "      <td>0</td>\n",
       "      <td>2023</td>\n",
       "      <td>01</td>\n",
       "    </tr>\n",
       "  </tbody>\n",
       "</table>\n",
       "</div>"
      ],
      "text/plain": [
       "                     TX_DATETIME  CUSTOMER_ID  TERMINAL_ID  TX_AMOUNT  \\\n",
       "0  ['2023', '01', '01 00:00:31']          596         3156     533.07   \n",
       "1  ['2023', '01', '01 00:02:10']         4961         3412     808.56   \n",
       "2  ['2023', '01', '01 00:07:56']            2         1365    1442.94   \n",
       "3  ['2023', '01', '01 00:09:29']         4128         8737     620.65   \n",
       "4  ['2023', '01', '01 00:10:34']          927         9906     490.66   \n",
       "\n",
       "   TX_TIME_SECONDS  TX_TIME_DAYS  TX_FRAUD  TX_FRAUD_SCENARIO TX_DATE_Year  \\\n",
       "0               31             0         0                  0         2023   \n",
       "1              130             0         0                  0         2023   \n",
       "2              476             0         1                  1         2023   \n",
       "3              569             0         0                  0         2023   \n",
       "4              634             0         0                  0         2023   \n",
       "\n",
       "  TX_DATE_Month  \n",
       "0            01  \n",
       "1            01  \n",
       "2            01  \n",
       "3            01  \n",
       "4            01  "
      ]
     },
     "execution_count": 107,
     "metadata": {},
     "output_type": "execute_result"
    }
   ],
   "source": [
    "data.head()"
   ]
  },
  {
   "cell_type": "code",
   "execution_count": 117,
   "id": "35dbf7f9-756a-4b18-9684-8c48c3d4d4c1",
   "metadata": {},
   "outputs": [],
   "source": [
    "for i in range(len(data)):\n",
    "    s=data.loc[i,'TX_DATETIME']\n",
    "    data.loc[i,'TX_DATE_Day']=s[16:18]"
   ]
  },
  {
   "cell_type": "code",
   "execution_count": 119,
   "id": "4ba1dc43-1c44-479c-8949-89274f535944",
   "metadata": {},
   "outputs": [
    {
     "data": {
      "text/html": [
       "<div>\n",
       "<style scoped>\n",
       "    .dataframe tbody tr th:only-of-type {\n",
       "        vertical-align: middle;\n",
       "    }\n",
       "\n",
       "    .dataframe tbody tr th {\n",
       "        vertical-align: top;\n",
       "    }\n",
       "\n",
       "    .dataframe thead th {\n",
       "        text-align: right;\n",
       "    }\n",
       "</style>\n",
       "<table border=\"1\" class=\"dataframe\">\n",
       "  <thead>\n",
       "    <tr style=\"text-align: right;\">\n",
       "      <th></th>\n",
       "      <th>TX_DATETIME</th>\n",
       "      <th>CUSTOMER_ID</th>\n",
       "      <th>TERMINAL_ID</th>\n",
       "      <th>TX_AMOUNT</th>\n",
       "      <th>TX_TIME_SECONDS</th>\n",
       "      <th>TX_TIME_DAYS</th>\n",
       "      <th>TX_FRAUD</th>\n",
       "      <th>TX_FRAUD_SCENARIO</th>\n",
       "      <th>TX_DATE_Year</th>\n",
       "      <th>TX_DATE_Month</th>\n",
       "      <th>TX_DATE_Day</th>\n",
       "    </tr>\n",
       "  </thead>\n",
       "  <tbody>\n",
       "    <tr>\n",
       "      <th>0</th>\n",
       "      <td>['2023', '01', '01 00:00:31']</td>\n",
       "      <td>596</td>\n",
       "      <td>3156</td>\n",
       "      <td>533.07</td>\n",
       "      <td>31</td>\n",
       "      <td>0</td>\n",
       "      <td>0</td>\n",
       "      <td>0</td>\n",
       "      <td>2023</td>\n",
       "      <td>01</td>\n",
       "      <td>01</td>\n",
       "    </tr>\n",
       "  </tbody>\n",
       "</table>\n",
       "</div>"
      ],
      "text/plain": [
       "                     TX_DATETIME  CUSTOMER_ID  TERMINAL_ID  TX_AMOUNT  \\\n",
       "0  ['2023', '01', '01 00:00:31']          596         3156     533.07   \n",
       "\n",
       "   TX_TIME_SECONDS  TX_TIME_DAYS  TX_FRAUD  TX_FRAUD_SCENARIO TX_DATE_Year  \\\n",
       "0               31             0         0                  0         2023   \n",
       "\n",
       "  TX_DATE_Month TX_DATE_Day  \n",
       "0            01          01  "
      ]
     },
     "execution_count": 119,
     "metadata": {},
     "output_type": "execute_result"
    }
   ],
   "source": [
    "data.head(1)"
   ]
  },
  {
   "cell_type": "code",
   "execution_count": 128,
   "id": "49e1ebd0-a831-4632-8805-fab7feac2bf7",
   "metadata": {},
   "outputs": [
    {
     "data": {
      "text/plain": [
       "'31'"
      ]
     },
     "execution_count": 128,
     "metadata": {},
     "output_type": "execute_result"
    }
   ],
   "source": [
    "a=data.loc[0,'TX_DATETIME']\n",
    "a[25:27]"
   ]
  },
  {
   "cell_type": "code",
   "execution_count": 129,
   "id": "3777ee8b-60ec-4756-a8ff-1686cc8351b9",
   "metadata": {},
   "outputs": [],
   "source": [
    "for i in range(len(data)):\n",
    "    s=data.loc[i,'TX_DATETIME']\n",
    "    data.loc[i,'TX_Time_Hour']=s[19:21]\n",
    "    data.loc[i,'TX_Time_min']=s[22:24]\n",
    "    data.loc[i,'TX_Time_sec']=s[25:27]"
   ]
  },
  {
   "cell_type": "code",
   "execution_count": 131,
   "id": "9cbbc868-ce06-4067-86b6-9ec605867fba",
   "metadata": {},
   "outputs": [
    {
     "data": {
      "text/html": [
       "<div>\n",
       "<style scoped>\n",
       "    .dataframe tbody tr th:only-of-type {\n",
       "        vertical-align: middle;\n",
       "    }\n",
       "\n",
       "    .dataframe tbody tr th {\n",
       "        vertical-align: top;\n",
       "    }\n",
       "\n",
       "    .dataframe thead th {\n",
       "        text-align: right;\n",
       "    }\n",
       "</style>\n",
       "<table border=\"1\" class=\"dataframe\">\n",
       "  <thead>\n",
       "    <tr style=\"text-align: right;\">\n",
       "      <th></th>\n",
       "      <th>TX_DATETIME</th>\n",
       "      <th>CUSTOMER_ID</th>\n",
       "      <th>TERMINAL_ID</th>\n",
       "      <th>TX_AMOUNT</th>\n",
       "      <th>TX_TIME_SECONDS</th>\n",
       "      <th>TX_TIME_DAYS</th>\n",
       "      <th>TX_FRAUD</th>\n",
       "      <th>TX_FRAUD_SCENARIO</th>\n",
       "      <th>TX_DATE_Year</th>\n",
       "      <th>TX_DATE_Month</th>\n",
       "      <th>TX_DATE_Day</th>\n",
       "      <th>TX_Time_Hour</th>\n",
       "      <th>TX_Time_min</th>\n",
       "      <th>TX_Time_sec</th>\n",
       "    </tr>\n",
       "  </thead>\n",
       "  <tbody>\n",
       "    <tr>\n",
       "      <th>0</th>\n",
       "      <td>['2023', '01', '01 00:00:31']</td>\n",
       "      <td>596</td>\n",
       "      <td>3156</td>\n",
       "      <td>533.07</td>\n",
       "      <td>31</td>\n",
       "      <td>0</td>\n",
       "      <td>0</td>\n",
       "      <td>0</td>\n",
       "      <td>2023</td>\n",
       "      <td>01</td>\n",
       "      <td>01</td>\n",
       "      <td>00</td>\n",
       "      <td>00</td>\n",
       "      <td>31</td>\n",
       "    </tr>\n",
       "  </tbody>\n",
       "</table>\n",
       "</div>"
      ],
      "text/plain": [
       "                     TX_DATETIME  CUSTOMER_ID  TERMINAL_ID  TX_AMOUNT  \\\n",
       "0  ['2023', '01', '01 00:00:31']          596         3156     533.07   \n",
       "\n",
       "   TX_TIME_SECONDS  TX_TIME_DAYS  TX_FRAUD  TX_FRAUD_SCENARIO TX_DATE_Year  \\\n",
       "0               31             0         0                  0         2023   \n",
       "\n",
       "  TX_DATE_Month TX_DATE_Day TX_Time_Hour TX_Time_min TX_Time_sec  \n",
       "0            01          01           00          00          31  "
      ]
     },
     "execution_count": 131,
     "metadata": {},
     "output_type": "execute_result"
    }
   ],
   "source": [
    "data.head(1)"
   ]
  },
  {
   "cell_type": "code",
   "execution_count": 132,
   "id": "da2ec3c3-6956-445e-ba29-0e9280ed1c5b",
   "metadata": {},
   "outputs": [],
   "source": [
    "data.drop('TX_DATETIME',axis=1,inplace=True)"
   ]
  },
  {
   "cell_type": "code",
   "execution_count": 133,
   "id": "f9e86760-8da4-4617-a40b-7f68ad260c4b",
   "metadata": {},
   "outputs": [
    {
     "data": {
      "text/html": [
       "<div>\n",
       "<style scoped>\n",
       "    .dataframe tbody tr th:only-of-type {\n",
       "        vertical-align: middle;\n",
       "    }\n",
       "\n",
       "    .dataframe tbody tr th {\n",
       "        vertical-align: top;\n",
       "    }\n",
       "\n",
       "    .dataframe thead th {\n",
       "        text-align: right;\n",
       "    }\n",
       "</style>\n",
       "<table border=\"1\" class=\"dataframe\">\n",
       "  <thead>\n",
       "    <tr style=\"text-align: right;\">\n",
       "      <th></th>\n",
       "      <th>CUSTOMER_ID</th>\n",
       "      <th>TERMINAL_ID</th>\n",
       "      <th>TX_AMOUNT</th>\n",
       "      <th>TX_TIME_SECONDS</th>\n",
       "      <th>TX_TIME_DAYS</th>\n",
       "      <th>TX_FRAUD</th>\n",
       "      <th>TX_FRAUD_SCENARIO</th>\n",
       "      <th>TX_DATE_Year</th>\n",
       "      <th>TX_DATE_Month</th>\n",
       "      <th>TX_DATE_Day</th>\n",
       "      <th>TX_Time_Hour</th>\n",
       "      <th>TX_Time_min</th>\n",
       "      <th>TX_Time_sec</th>\n",
       "    </tr>\n",
       "  </thead>\n",
       "  <tbody>\n",
       "    <tr>\n",
       "      <th>0</th>\n",
       "      <td>596</td>\n",
       "      <td>3156</td>\n",
       "      <td>533.07</td>\n",
       "      <td>31</td>\n",
       "      <td>0</td>\n",
       "      <td>0</td>\n",
       "      <td>0</td>\n",
       "      <td>2023</td>\n",
       "      <td>01</td>\n",
       "      <td>01</td>\n",
       "      <td>00</td>\n",
       "      <td>00</td>\n",
       "      <td>31</td>\n",
       "    </tr>\n",
       "  </tbody>\n",
       "</table>\n",
       "</div>"
      ],
      "text/plain": [
       "   CUSTOMER_ID  TERMINAL_ID  TX_AMOUNT  TX_TIME_SECONDS  TX_TIME_DAYS  \\\n",
       "0          596         3156     533.07               31             0   \n",
       "\n",
       "   TX_FRAUD  TX_FRAUD_SCENARIO TX_DATE_Year TX_DATE_Month TX_DATE_Day  \\\n",
       "0         0                  0         2023            01          01   \n",
       "\n",
       "  TX_Time_Hour TX_Time_min TX_Time_sec  \n",
       "0           00          00          31  "
      ]
     },
     "execution_count": 133,
     "metadata": {},
     "output_type": "execute_result"
    }
   ],
   "source": [
    "data.head(1)"
   ]
  },
  {
   "cell_type": "code",
   "execution_count": 134,
   "id": "59468ebf-07f3-40d5-85e5-476c5eac23ab",
   "metadata": {},
   "outputs": [
    {
     "data": {
      "text/plain": [
       "2023    1754155\n",
       "Name: TX_DATE_Year, dtype: int64"
      ]
     },
     "execution_count": 134,
     "metadata": {},
     "output_type": "execute_result"
    }
   ],
   "source": [
    "data['TX_DATE_Year'].value_counts()"
   ]
  },
  {
   "cell_type": "code",
   "execution_count": 135,
   "id": "992c539a-dfcb-4f84-bab7-9de393549478",
   "metadata": {},
   "outputs": [],
   "source": [
    "data.drop('TX_DATE_Year',axis=1,inplace=True)"
   ]
  },
  {
   "cell_type": "code",
   "execution_count": null,
   "id": "0b28e7ff-8e24-46a9-9f7e-a5bf96a7a859",
   "metadata": {},
   "outputs": [],
   "source": [
    "Target=data['TX_FRAUD']"
   ]
  },
  {
   "cell_type": "code",
   "execution_count": 137,
   "id": "7a39399a-e5fa-474a-b796-596fb743039d",
   "metadata": {},
   "outputs": [],
   "source": [
    "data['Target']=Target "
   ]
  },
  {
   "cell_type": "code",
   "execution_count": 139,
   "id": "3da0d509-4583-4da5-8ca1-727cef336807",
   "metadata": {},
   "outputs": [],
   "source": [
    "data.drop('TX_FRAUD',axis=1,inplace=True)"
   ]
  },
  {
   "cell_type": "code",
   "execution_count": 140,
   "id": "5053dd39-99a7-4e27-ab6f-27bb800dd205",
   "metadata": {},
   "outputs": [
    {
     "data": {
      "text/html": [
       "<div>\n",
       "<style scoped>\n",
       "    .dataframe tbody tr th:only-of-type {\n",
       "        vertical-align: middle;\n",
       "    }\n",
       "\n",
       "    .dataframe tbody tr th {\n",
       "        vertical-align: top;\n",
       "    }\n",
       "\n",
       "    .dataframe thead th {\n",
       "        text-align: right;\n",
       "    }\n",
       "</style>\n",
       "<table border=\"1\" class=\"dataframe\">\n",
       "  <thead>\n",
       "    <tr style=\"text-align: right;\">\n",
       "      <th></th>\n",
       "      <th>CUSTOMER_ID</th>\n",
       "      <th>TERMINAL_ID</th>\n",
       "      <th>TX_AMOUNT</th>\n",
       "      <th>TX_TIME_SECONDS</th>\n",
       "      <th>TX_TIME_DAYS</th>\n",
       "      <th>TX_FRAUD_SCENARIO</th>\n",
       "      <th>TX_DATE_Month</th>\n",
       "      <th>TX_DATE_Day</th>\n",
       "      <th>TX_Time_Hour</th>\n",
       "      <th>TX_Time_min</th>\n",
       "      <th>TX_Time_sec</th>\n",
       "      <th>Target</th>\n",
       "    </tr>\n",
       "  </thead>\n",
       "  <tbody>\n",
       "    <tr>\n",
       "      <th>0</th>\n",
       "      <td>596</td>\n",
       "      <td>3156</td>\n",
       "      <td>533.07</td>\n",
       "      <td>31</td>\n",
       "      <td>0</td>\n",
       "      <td>0</td>\n",
       "      <td>01</td>\n",
       "      <td>01</td>\n",
       "      <td>00</td>\n",
       "      <td>00</td>\n",
       "      <td>31</td>\n",
       "      <td>0</td>\n",
       "    </tr>\n",
       "  </tbody>\n",
       "</table>\n",
       "</div>"
      ],
      "text/plain": [
       "   CUSTOMER_ID  TERMINAL_ID  TX_AMOUNT  TX_TIME_SECONDS  TX_TIME_DAYS  \\\n",
       "0          596         3156     533.07               31             0   \n",
       "\n",
       "   TX_FRAUD_SCENARIO TX_DATE_Month TX_DATE_Day TX_Time_Hour TX_Time_min  \\\n",
       "0                  0            01          01           00          00   \n",
       "\n",
       "  TX_Time_sec  Target  \n",
       "0          31       0  "
      ]
     },
     "execution_count": 140,
     "metadata": {},
     "output_type": "execute_result"
    }
   ],
   "source": [
    "data.head(1)"
   ]
  },
  {
   "cell_type": "code",
   "execution_count": 158,
   "id": "7d479521-4e7f-4a98-ba9a-e3c45ff253b9",
   "metadata": {
    "tags": []
   },
   "outputs": [
    {
     "name": "stdout",
     "output_type": "stream",
     "text": [
      "<class 'pandas.core.frame.DataFrame'>\n",
      "RangeIndex: 1754155 entries, 0 to 1754154\n",
      "Data columns (total 12 columns):\n",
      " #   Column             Dtype  \n",
      "---  ------             -----  \n",
      " 0   CUSTOMER_ID        int64  \n",
      " 1   TERMINAL_ID        int64  \n",
      " 2   TX_AMOUNT          float64\n",
      " 3   TX_TIME_SECONDS    int64  \n",
      " 4   TX_TIME_DAYS       int64  \n",
      " 5   TX_FRAUD_SCENARIO  int64  \n",
      " 6   TX_DATE_Month      object \n",
      " 7   TX_DATE_Day        object \n",
      " 8   TX_Time_Hour       object \n",
      " 9   TX_Time_min        object \n",
      " 10  TX_Time_sec        object \n",
      " 11  Target             int64  \n",
      "dtypes: float64(1), int64(6), object(5)\n",
      "memory usage: 160.6+ MB\n"
     ]
    }
   ],
   "source": [
    "data.info()"
   ]
  },
  {
   "cell_type": "code",
   "execution_count": 159,
   "id": "f7255b92-5e21-484e-a18e-cbe5bd1e28b1",
   "metadata": {},
   "outputs": [],
   "source": [
    "data['TX_DATE_Month']=data['TX_DATE_Month'].astype(int)\n",
    "data['TX_DATE_Day']=data['TX_DATE_Day'].astype(int)\n",
    "data['TX_Time_Hour']=data['TX_Time_Hour'].astype(int)\n",
    "data['TX_Time_min']=data['TX_Time_min'].astype(int)\n",
    "data['TX_Time_sec']=data['TX_Time_sec'].astype(int)\n"
   ]
  },
  {
   "cell_type": "code",
   "execution_count": 160,
   "id": "fb6d6264-7b3d-4284-9ba0-f395c79d5344",
   "metadata": {},
   "outputs": [
    {
     "data": {
      "text/plain": [
       "<AxesSubplot:>"
      ]
     },
     "execution_count": 160,
     "metadata": {},
     "output_type": "execute_result"
    },
    {
     "data": {
      "image/png": "[encoded data removed]",
      "text/plain": [
       "<Figure size 2000x2000 with 2 Axes>"
      ]
     },
     "metadata": {},
     "output_type": "display_data"
    }
   ],
   "source": [
    "plt.figure(figsize=(20,20))\n",
    "sns.heatmap(data.corr(),annot=True)"
   ]
  },
  {
   "cell_type": "code",
   "execution_count": 166,
   "id": "c7705550-2536-4559-875f-6984c5077056",
   "metadata": {},
   "outputs": [],
   "source": [
    "data.drop(['TX_Time_min','TX_Time_sec'],axis=1,inplace=True)"
   ]
  },
  {
   "cell_type": "code",
   "execution_count": 167,
   "id": "5de7b610-ef90-4251-adf1-9bc6c2dcc043",
   "metadata": {},
   "outputs": [],
   "source": [
    "x=data.iloc[:,:-1]\n",
    "y=data.iloc[:,-1]"
   ]
  },
  {
   "cell_type": "code",
   "execution_count": 168,
   "id": "e9c61c64-2bae-4dcb-8d3c-b4c92afd01b8",
   "metadata": {},
   "outputs": [],
   "source": [
    "from sklearn.model_selection import train_test_split\n",
    "x_train,x_test,y_train,y_test=train_test_split(x,y,test_size=0.2)"
   ]
  },
  {
   "cell_type": "code",
   "execution_count": 169,
   "id": "5a0992fd-7aad-43d7-8976-5dfa73bfc7f3",
   "metadata": {},
   "outputs": [],
   "source": [
    "from sklearn.preprocessing import StandardScaler\n",
    "SD=StandardScaler()\n",
    "x_train=SD.fit_transform(x_train)\n",
    "x_test=SD.transform(x_test)"
   ]
  },
  {
   "cell_type": "code",
   "execution_count": 170,
   "id": "012a4454-effa-4f5e-81c0-4efe150eb3f0",
   "metadata": {},
   "outputs": [],
   "source": [
    "from sklearn.linear_model import LogisticRegression \n",
    "model=LogisticRegression()\n",
    "model.fit(x_train,y_train)\n",
    "y_pred=model.predict(x_test)"
   ]
  },
  {
   "cell_type": "code",
   "execution_count": 171,
   "id": "d41463a9-a2f0-49b6-91ac-9cd34d9edcbb",
   "metadata": {},
   "outputs": [
    {
     "name": "stdout",
     "output_type": "stream",
     "text": [
      "Accuracy:  1.0\n",
      "Recall:  1.0\n",
      "Precision:  1.0\n",
      "F1_score:  1.0\n",
      "specifity :  1.0\n"
     ]
    }
   ],
   "source": [
    "from sklearn.metrics import recall_score , precision_score , accuracy_score, f1_score \n",
    "from imblearn.metrics import specificity_score\n",
    "print('Accuracy: ',accuracy_score(y_test,y_pred) )\n",
    "print('Recall: ',recall_score(y_test,y_pred) )\n",
    "print('Precision: ',precision_score(y_test,y_pred) )\n",
    "print('F1_score: ',f1_score(y_test,y_pred) )\n",
    "print('specifity : ',specificity_score(y_test, y_pred))"
   ]
  },
  {
   "cell_type": "code",
   "execution_count": 177,
   "id": "82a4eeab-64eb-447b-8673-469c1bf1ee54",
   "metadata": {},
   "outputs": [
    {
     "name": "stdout",
     "output_type": "stream",
     "text": [
      "Data before oversampling Counter({0: 1214550, 1: 188774})\n"
     ]
    }
   ],
   "source": [
    "from imblearn.over_sampling import SMOTE\n",
    "from collections import Counter\n",
    "print('Data before oversampling',Counter(y_train))"
   ]
  },
  {
   "cell_type": "code",
   "execution_count": 178,
   "id": "7f983195-ad87-4964-a367-eb2bb77db4f3",
   "metadata": {},
   "outputs": [
    {
     "name": "stdout",
     "output_type": "stream",
     "text": [
      "Data after oversampling Counter({0: 1214550, 1: 1214550})\n"
     ]
    }
   ],
   "source": [
    "sm=SMOTE()\n",
    "x_res,y_res=sm.fit_resample(x_train,y_train)\n",
    "print('Data after oversampling',Counter(y_res))"
   ]
  },
  {
   "cell_type": "code",
   "execution_count": 181,
   "id": "07a1a2c8-ef4e-4d90-8eea-8d1bf22dd152",
   "metadata": {},
   "outputs": [],
   "source": [
    "from sklearn.tree import DecisionTreeClassifier\n",
    "model=DecisionTreeClassifier()\n",
    "model.fit(x_res,y_res)\n",
    "y_pred=model.predict(x_test)"
   ]
  },
  {
   "cell_type": "code",
   "execution_count": 182,
   "id": "a2fd77df-a655-40a6-add2-3d66012654a6",
   "metadata": {},
   "outputs": [
    {
     "name": "stdout",
     "output_type": "stream",
     "text": [
      "Accuracy:  1.0\n",
      "Recall:  1.0\n",
      "Precision:  1.0\n",
      "F1_score:  1.0\n",
      "specifity :  1.0\n"
     ]
    }
   ],
   "source": [
    "from sklearn.metrics import recall_score , precision_score , accuracy_score, f1_score \n",
    "from imblearn.metrics import specificity_score\n",
    "print('Accuracy: ',accuracy_score(y_test,y_pred) )\n",
    "print('Recall: ',recall_score(y_test,y_pred) )\n",
    "print('Precision: ',precision_score(y_test,y_pred) )\n",
    "print('F1_score: ',f1_score(y_test,y_pred) )\n",
    "print('specifity : ',specificity_score(y_test, y_pred))"
   ]
  },
  {
   "cell_type": "code",
   "execution_count": 183,
   "id": "fbea2b0e-bb90-4833-9fd9-a7dadcfbb2d2",
   "metadata": {},
   "outputs": [],
   "source": [
    "from sklearn.linear_model import LogisticRegression \n",
    "model=LogisticRegression()\n",
    "model.fit(x_res,y_res)\n",
    "y_pred=model.predict(x_test)"
   ]
  },
  {
   "cell_type": "code",
   "execution_count": 184,
   "id": "2f45d748-012e-4b5b-aef0-905469a682c2",
   "metadata": {},
   "outputs": [
    {
     "name": "stdout",
     "output_type": "stream",
     "text": [
      "Accuracy:  1.0\n",
      "Recall:  1.0\n",
      "Precision:  1.0\n",
      "F1_score:  1.0\n",
      "specifity :  1.0\n"
     ]
    }
   ],
   "source": [
    "from sklearn.metrics import recall_score , precision_score , accuracy_score, f1_score \n",
    "from imblearn.metrics import specificity_score\n",
    "print('Accuracy: ',accuracy_score(y_test,y_pred) )\n",
    "print('Recall: ',recall_score(y_test,y_pred) )\n",
    "print('Precision: ',precision_score(y_test,y_pred) )\n",
    "print('F1_score: ',f1_score(y_test,y_pred) )\n",
    "print('specifity : ',specificity_score(y_test, y_pred))"
   ]
  },
  {
   "cell_type": "code",
   "execution_count": null,
   "id": "6612f34a-e05f-4ab7-be76-9796abb815e1",
   "metadata": {},
   "outputs": [],
   "source": []
  }
 ],
 "metadata": {
  "kernelspec": {
   "display_name": "Python 3 (ipykernel)",
   "language": "python",
   "name": "python3"
  },
  "language_info": {
   "codemirror_mode": {
    "name": "ipython",
    "version": 3
   },
   "file_extension": ".py",
   "mimetype": "text/x-python",
   "name": "python",
   "nbconvert_exporter": "python",
   "pygments_lexer": "ipython3",
   "version": "3.9.13"
  }
 },
 "nbformat": 4,
 "nbformat_minor": 5
}
